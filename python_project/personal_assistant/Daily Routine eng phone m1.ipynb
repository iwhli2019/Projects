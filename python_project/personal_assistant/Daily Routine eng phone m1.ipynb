{
 "cells": [
  {
   "cell_type": "code",
   "execution_count": 1,
   "metadata": {
    "scrolled": false
   },
   "outputs": [],
   "source": [
    "import os\n",
    "import pandas as pd\n",
    "import requests\n",
    "import time\n",
    "from bs4 import BeautifulSoup\n",
    "import re\n",
    "import pyttsx3\n",
    "import datetime as dt\n",
    "import webbrowser\n",
    "\n",
    "engine = pyttsx3.init()\n",
    "british_eng_id = 'com.apple.speech.synthesis.voice.daniel'\n",
    "engine.setProperty('rate', 190)\n",
    "engine.setProperty('volume', 0.7)\n",
    "engine.setProperty('voice', british_eng_id)\n",
    "#pip install regex\n",
    "#pip install SpeechRecognition\n",
    "#pip install PyAudio"
   ]
  },
  {
   "cell_type": "code",
   "execution_count": 2,
   "metadata": {},
   "outputs": [],
   "source": [
    "engine.say(\"The routine is running. Please hold.\")\n",
    "engine.runAndWait()"
   ]
  },
  {
   "cell_type": "code",
   "execution_count": 3,
   "metadata": {
    "scrolled": true
   },
   "outputs": [],
   "source": [
    "URL = 'https://www.bbc.com/news'\n",
    "page = requests.get(URL)\n",
    "\n",
    "soup = BeautifulSoup(page.content, 'html.parser')\n",
    "count = 0\n",
    "bbc_headline = []\n",
    "for per in soup.find_all('h3'):\n",
    "    bbc_headline.append(per.text)\n",
    "    #print(f'''{count}.   {per.text}''')\n",
    "    count += 1"
   ]
  },
  {
   "cell_type": "code",
   "execution_count": 4,
   "metadata": {},
   "outputs": [],
   "source": [
    "bbc_news_headline = []\n",
    "bbc_link = []\n",
    "count = 0\n",
    "for a in soup.find_all('a', href=True):\n",
    "    if a.text in bbc_headline:\n",
    "        #print(f'''{count}.   {a.text}''')\n",
    "        bbc_news_headline.append(a.text)\n",
    "        #print(f'''{count}.   {a['href']}''')\n",
    "        if a['href'][0:6] != 'https:':\n",
    "            bbc_link.append(\"https://www.bbc.co.uk\"+a['href'])  \n",
    "        else:\n",
    "            bbc_link.append(a['href'])\n",
    "        count+=1\n",
    "#bbc_link = [link.replace(\"\\n\", \"\").strip() for link in bbc_link]        \n",
    "\n"
   ]
  },
  {
   "cell_type": "code",
   "execution_count": 5,
   "metadata": {},
   "outputs": [],
   "source": [
    "drop_lst = []\n",
    "seen = set()\n",
    "count = 0\n",
    "for line in bbc_news_headline:\n",
    "    line_lower = line.lower()\n",
    "    if line_lower in seen:\n",
    "        #print(f'''{count}.  {line}''')\n",
    "        drop_lst.append(count)\n",
    "        count += 1\n",
    "    else:\n",
    "        seen.add(line_lower)\n",
    "        count += 1"
   ]
  },
  {
   "cell_type": "code",
   "execution_count": 6,
   "metadata": {
    "scrolled": true
   },
   "outputs": [],
   "source": [
    "count = 0\n",
    "for i in drop_lst:\n",
    "    if count == 0:\n",
    "        #print(i)\n",
    "        del bbc_news_headline[i]\n",
    "        del bbc_link[i]\n",
    "        count += 1\n",
    "    #del bbc_headline[i]\n",
    "    elif count > 0:\n",
    "        i -= count\n",
    "        #print(i)\n",
    "        del bbc_news_headline[i]\n",
    "        del bbc_link[i]\n",
    "        count += 1\n"
   ]
  },
  {
   "cell_type": "code",
   "execution_count": 7,
   "metadata": {
    "scrolled": true
   },
   "outputs": [],
   "source": [
    "URL = 'https://www.businessinsider.com'\n",
    "page = requests.get(URL)\n",
    "\n",
    "soup = BeautifulSoup(page.content, 'html.parser')\n",
    "\n",
    "\n",
    "\n",
    "count = 0\n",
    "busIn_headline = []\n",
    "for per in soup.findAll('a',class_ = \"tout-title-link\"):\n",
    "    busIn_headline.append(per.text)\n",
    "    #print(f'''{count}.   {per.text}''')\n",
    "    count += 1\n",
    "    \n",
    "busIn_headline = [headline.replace(\"\\n\", \"\").strip() for headline in busIn_headline]"
   ]
  },
  {
   "cell_type": "code",
   "execution_count": 8,
   "metadata": {
    "scrolled": true
   },
   "outputs": [],
   "source": [
    "busIn_news_headline = []\n",
    "busIn_link = []\n",
    "count = 0\n",
    "for a in soup.find_all('a', href=True):\n",
    "    if a.text in busIn_headline:\n",
    "        #print(f'''{count}.   {a.text}''')\n",
    "        busIn_news_headline.append(a.text)\n",
    "        #print(f'''{count}.   {a['href']}''')\n",
    "        if a['href'][0:6] != 'https:':\n",
    "            busIn_link.append(\"https://www.businessinsider.com\"+a['href'])  \n",
    "        else:\n",
    "            busIn_link.append(a['href'])\n",
    "        count+=1\n",
    "#bbc_link = [link.replace(\"\\n\", \"\").strip() for link in bbc_link]        "
   ]
  },
  {
   "cell_type": "code",
   "execution_count": 9,
   "metadata": {},
   "outputs": [],
   "source": [
    "drop_lst = []\n",
    "seen = set()\n",
    "count = 0\n",
    "for line in busIn_news_headline:\n",
    "    line_lower = line.lower()\n",
    "    if line_lower in seen:\n",
    "        #print(line)\n",
    "        #print(count)\n",
    "        drop_lst.append(count)\n",
    "        count += 1\n",
    "    else:\n",
    "        seen.add(line_lower)\n",
    "        count += 1"
   ]
  },
  {
   "cell_type": "code",
   "execution_count": 10,
   "metadata": {},
   "outputs": [],
   "source": [
    "count = 0\n",
    "if len(busIn_news_headline) != 0:\n",
    "    for i in drop_lst:\n",
    "        if count == 0:\n",
    "            #print(i)\n",
    "            del busIn_news_headline[i]\n",
    "            del busIn_link[i]\n",
    "            count += 1\n",
    "        #del bbc_headline[i]\n",
    "        elif count > 0:\n",
    "            i -= count\n",
    "            #print(i)\n",
    "            del busIn_news_headline[i]\n",
    "            del busIn_link[i]\n",
    "            count += 1\n",
    "else:\n",
    "    pass"
   ]
  },
  {
   "cell_type": "code",
   "execution_count": 11,
   "metadata": {},
   "outputs": [
    {
     "data": {
      "text/plain": [
       "'\\nimport time\\nimport os\\nfrom selenium import webdriver\\nfrom bs4 import BeautifulSoup\\n\\n# put the driver in the folder of this code\\ndriver = webdriver.Chrome(os.getcwd() + \\'/chromedriver\\')  \\n\\ndriver.get(\"https://www.bloomberg.com\")\\ntime.sleep(3)\\nsoup = BeautifulSoup(driver.page_source, \\'html.parser\\')\\n'"
      ]
     },
     "execution_count": 11,
     "metadata": {},
     "output_type": "execute_result"
    }
   ],
   "source": [
    "'''\n",
    "import time\n",
    "import os\n",
    "from selenium import webdriver\n",
    "from bs4 import BeautifulSoup\n",
    "\n",
    "# put the driver in the folder of this code\n",
    "driver = webdriver.Chrome(os.getcwd() + '/chromedriver')  \n",
    "\n",
    "driver.get(\"https://www.bloomberg.com\")\n",
    "time.sleep(3)\n",
    "soup = BeautifulSoup(driver.page_source, 'html.parser')\n",
    "'''\n",
    "#count = 0\n",
    "#busIn_headline = []\n",
    "#for per in soup.findAll('a',class_ = \"tout-title-link\"):\n",
    "    #busIn_headline.append(per.text)\n",
    "    #print(f'''{count}.   {per.text}''')\n",
    "#    count += 1\n",
    "    \n",
    "#open_ = real_soup.find(\"span\", {\"class\": \"priceText__1853e8a5\"}).text\n",
    "#print(f\"Price: {open_}\")\n",
    "#driver.quit()\n"
   ]
  },
  {
   "cell_type": "code",
   "execution_count": 12,
   "metadata": {},
   "outputs": [],
   "source": [
    "URL = 'https://weather.com/weather/today/l/42.37,-71.11?temp=c'\n",
    "page = requests.get(URL)\n",
    "\n",
    "soup = BeautifulSoup(page.content, 'html.parser')\n",
    "\n",
    "degree = [per.text for per in soup.findAll('span',class_ = \"CurrentConditions--tempValue--3KcTQ\")]\n",
    "condition = [per.text for per in soup.findAll('div',class_ = \"CurrentConditions--phraseValue--2xXSr\")]"
   ]
  },
  {
   "cell_type": "code",
   "execution_count": 13,
   "metadata": {},
   "outputs": [],
   "source": [
    "now = dt.datetime.now()\n",
    "months = ['january', 'february', 'march', 'april', 'may', 'june', 'july', 'august', 'september', 'october', 'november', 'december']\n",
    "date_sequence = [\"st\", \"nd\", \"rd\", \"th\"]\n",
    "st = [1,11,21,31]\n",
    "nd = [2,12,22]\n",
    "rd = [3,13,23]\n",
    "\n",
    "morning = [*range(0,13,1)]\n",
    "afternoon = [*range(13,18,1)]\n",
    "evening = [*range(18,24,1)]\n",
    "\n",
    "current_min = now.strftime('%M')\n",
    "current_hour = now.strftime('%H')\n",
    "current_day = now.strftime('%A')\n",
    "current_month = months[int(now.strftime('%m'))-1]\n",
    "\n",
    "greetings = []\n",
    "if int(now.strftime('%H')) in morning:\n",
    "    greetings.append('morning')\n",
    "elif int(now.strftime('%H')) in afternoon:\n",
    "    greetings.append('afternoon')\n",
    "elif int(now.strftime('%H')) in evening:\n",
    "    greetings.append('evening')\n",
    "\n",
    "\n",
    "current_date = []\n",
    "if int(now.strftime('%d')) in st:\n",
    "    current_date.append(now.strftime('%d')+'st')\n",
    "elif int(now.strftime('%d')) in nd:\n",
    "    current_date.append(now.strftime('%d')+'nd')\n",
    "elif int(now.strftime('%d')) in rd:\n",
    "    current_date.append(now.strftime('%d')+'rd')\n",
    "else:\n",
    "    current_date.append(now.strftime('%d')+'th')        "
   ]
  },
  {
   "cell_type": "code",
   "execution_count": 14,
   "metadata": {},
   "outputs": [],
   "source": [
    "### Prep for voice recon###"
   ]
  },
  {
   "cell_type": "code",
   "execution_count": 15,
   "metadata": {},
   "outputs": [
    {
     "data": {
      "text/plain": [
       "'\\nimport pyaudio\\nimport wave, os\\nFORMAT = pyaudio.paInt16\\nCHANNELS = 2\\nRATE = 44100\\nCHUNK = 1024\\nRECORD_SECONDS = 5\\nWAVE_OUTPUT_FILENAME = \"file.wav\"\\naudio = pyaudio.PyAudio()\\n# start Recording\\nstream = audio.open(format=FORMAT, channels=CHANNELS,\\nrate=RATE, input=True,\\nframes_per_buffer=CHUNK)\\nprint (\"recording...\")\\nframes = []\\nfor i in range(0, int(RATE / CHUNK * RECORD_SECONDS)):\\n    data = stream.read(CHUNK)\\n    frames.append(data)\\n    print (\"finished recording\")\\n# stop Recording\\nstream.stop_stream()\\nstream.close()\\naudio.terminate()\\nwaveFile = wave.open(WAVE_OUTPUT_FILENAME, \\'wb\\')\\nwaveFile.setnchannels(CHANNELS)\\nwaveFile.setsampwidth(audio.get_sample_size(FORMAT))\\nwaveFile.setframerate(RATE)\\nwaveFile.writeframes(b\\'\\'.join(frames))\\nwaveFile.close()\\nos.system(\"afplay file.wav\")\\n'"
      ]
     },
     "execution_count": 15,
     "metadata": {},
     "output_type": "execute_result"
    }
   ],
   "source": [
    "'''\n",
    "import pyaudio\n",
    "import wave, os\n",
    "FORMAT = pyaudio.paInt16\n",
    "CHANNELS = 2\n",
    "RATE = 44100\n",
    "CHUNK = 1024\n",
    "RECORD_SECONDS = 5\n",
    "WAVE_OUTPUT_FILENAME = \"file.wav\"\n",
    "audio = pyaudio.PyAudio()\n",
    "# start Recording\n",
    "stream = audio.open(format=FORMAT, channels=CHANNELS,\n",
    "rate=RATE, input=True,\n",
    "frames_per_buffer=CHUNK)\n",
    "print (\"recording...\")\n",
    "frames = []\n",
    "for i in range(0, int(RATE / CHUNK * RECORD_SECONDS)):\n",
    "    data = stream.read(CHUNK)\n",
    "    frames.append(data)\n",
    "    print (\"finished recording\")\n",
    "# stop Recording\n",
    "stream.stop_stream()\n",
    "stream.close()\n",
    "audio.terminate()\n",
    "waveFile = wave.open(WAVE_OUTPUT_FILENAME, 'wb')\n",
    "waveFile.setnchannels(CHANNELS)\n",
    "waveFile.setsampwidth(audio.get_sample_size(FORMAT))\n",
    "waveFile.setframerate(RATE)\n",
    "waveFile.writeframes(b''.join(frames))\n",
    "waveFile.close()\n",
    "os.system(\"afplay file.wav\")\n",
    "'''"
   ]
  },
  {
   "cell_type": "code",
   "execution_count": 16,
   "metadata": {},
   "outputs": [
    {
     "data": {
      "text/plain": [
       "'\\nimport speech_recognition as sr\\nwith sr.Microphone() as source:\\n    # read the audio data from the default microphone\\n    audio_data = r.record(source, duration=5)\\n    print(\"Recognizing...\")\\n    # convert speech to text\\n    text = r.recognize_google(audio_data)\\n    print(text)\\n    \\ntext = r.recognize_google(audio_data, language=\"es-ES\")    \\n'"
      ]
     },
     "execution_count": 16,
     "metadata": {},
     "output_type": "execute_result"
    }
   ],
   "source": [
    "'''\n",
    "import speech_recognition as sr\n",
    "with sr.Microphone() as source:\n",
    "    # read the audio data from the default microphone\n",
    "    audio_data = r.record(source, duration=5)\n",
    "    print(\"Recognizing...\")\n",
    "    # convert speech to text\n",
    "    text = r.recognize_google(audio_data)\n",
    "    print(text)\n",
    "    \n",
    "text = r.recognize_google(audio_data, language=\"es-ES\")    \n",
    "'''"
   ]
  },
  {
   "cell_type": "code",
   "execution_count": 17,
   "metadata": {},
   "outputs": [
    {
     "data": {
      "text/plain": [
       "'\\nimport speech_recognition as sr\\nr = sr.Recognizer()\\nmic = sr.Microphone()\\nwith mic as source:\\n    audio = r.listen(source)\\n'"
      ]
     },
     "execution_count": 17,
     "metadata": {},
     "output_type": "execute_result"
    }
   ],
   "source": [
    "'''\n",
    "import speech_recognition as sr\n",
    "r = sr.Recognizer()\n",
    "mic = sr.Microphone()\n",
    "with mic as source:\n",
    "    audio = r.listen(source)\n",
    "'''"
   ]
  },
  {
   "cell_type": "code",
   "execution_count": 18,
   "metadata": {},
   "outputs": [],
   "source": [
    "#ans = input(\"Please enter the number of which news you could like to access?\")\n",
    "#if ans == \"1\":\n",
    "#    webbrowser.open('https://www.bbc.co.uk/news/world-asia-57040713')\n",
    "#    print(ans)\n",
    "#if ans == 'exit':\n",
    "    #exit()"
   ]
  },
  {
   "cell_type": "code",
   "execution_count": 19,
   "metadata": {
    "scrolled": true
   },
   "outputs": [
    {
     "name": "stdout",
     "output_type": "stream",
     "text": [
      "['second', 'third'] ['bbc', 'insider'] [1, 2]\n"
     ]
    }
   ],
   "source": [
    "text = ['J, get me the second news from bbc , and the third one from insider please.']\n",
    "\n",
    "key_reporter = ['bbc','insider']\n",
    "ordinals = ['first','second','third','fourth','fifth']\n",
    "\n",
    "words  = [letter for word in text for letter in word.split() if letter != \" \"]\n",
    "\n",
    "number = []\n",
    "reporter = []\n",
    "key_no = []\n",
    "\n",
    "\n",
    "for word in words:\n",
    "    if word in key_reporter:\n",
    "        #print(keywords)\n",
    "        reporter.append(word)\n",
    "    elif word in ordinals:        \n",
    "        number.append(word)\n",
    "        count = 0\n",
    "        for i in ordinals:\n",
    "            if i == word:\n",
    "                key_no.append(count)\n",
    "            count+=1\n",
    "            \n",
    "print(number,reporter,key_no)            "
   ]
  },
  {
   "cell_type": "code",
   "execution_count": 20,
   "metadata": {},
   "outputs": [
    {
     "data": {
      "text/plain": [
       "\"\\nbbc = ['bbc', 'bbc news']\\ninsider = ['insider', 'business insider']\\n\\nfor r in reporter:\\n    if r in bbc:\\n         webbrowser.open(bbc_link[key_no[0]])\\n    elif r in insider:\\n         webbrowser.open(busIn_link[key_no[1]])\\n    else:\\n        pass\\n\""
      ]
     },
     "execution_count": 20,
     "metadata": {},
     "output_type": "execute_result"
    }
   ],
   "source": [
    "'''\n",
    "bbc = ['bbc', 'bbc news']\n",
    "insider = ['insider', 'business insider']\n",
    "\n",
    "for r in reporter:\n",
    "    if r in bbc:\n",
    "         webbrowser.open(bbc_link[key_no[0]])\n",
    "    elif r in insider:\n",
    "         webbrowser.open(busIn_link[key_no[1]])\n",
    "    else:\n",
    "        pass\n",
    "'''"
   ]
  },
  {
   "cell_type": "code",
   "execution_count": 21,
   "metadata": {},
   "outputs": [],
   "source": [
    "# Portfolio live comperision\n",
    "\n",
    "# At the end speak out the name of the company instead of the ticker"
   ]
  },
  {
   "cell_type": "code",
   "execution_count": 22,
   "metadata": {},
   "outputs": [],
   "source": [
    "#https://finance.yahoo.com/quote/0003.HK?p=0003.HK&.tsrc=fin-srch"
   ]
  },
  {
   "cell_type": "code",
   "execution_count": 23,
   "metadata": {},
   "outputs": [],
   "source": [
    "ticker_list = ['0939.HK','1038.HK','1299.HK','0003.HK','0405.HK']\n",
    "weights = [0.047,0.046,0.045,0.79,0.072]\n",
    "\n",
    "\n",
    "_0939_share = [156,154,149,142,140,143,155]\n",
    "_0939_buy_in_price = [6.27,6.35,6.57,6.91,7.02,6.87,6.33]\n",
    "_0939_total_price = round(sum([_0939_share[i] * _0939_buy_in_price[i] for i in range(len(_0939_share))]),2)\n",
    "\n",
    "\n",
    "_1038_share = [17,16,16,15,15,15,15]\n",
    "_1038_buy_in_price = [57.35,58,60.95,63.2,65.5,63.3,63.6]\n",
    "_1038_total_price = round(sum([_1038_share[i] * _1038_buy_in_price[i] for i in range(len(_1038_share))]),2)\n",
    "\n",
    "_1299_share = [15,15,14,13,12,12,12]\n",
    "_1299_buy_in_price = [62.95,61.95,67,73,78.1,79.85,76.25]\n",
    "_1299_total_price = round(sum([_1299_share[i] * _1299_buy_in_price[i] for i in range(len(_1299_share))]),2)\n",
    "\n",
    "_0003_share = [7320]\n",
    "_0003_buy_in_price = [12]\n",
    "_0003_total_price = round(sum([_0003_share[i] * _0003_buy_in_price[i] for i in range(len(_0003_share))]),2)\n",
    "\n",
    "\n",
    "_0405_share = [2000]\n",
    "_0405_buy_in_price = [4.94]\n",
    "_0405_total_price = round(sum([_0405_share[i] * _0405_buy_in_price[i] for i in range(len(_0405_share))]),2)\n",
    "\n",
    "\n",
    "port_price = [_0939_total_price,_1038_total_price,_1299_total_price,_0003_total_price,_0405_total_price]\n",
    "\n",
    "total_price = [round(weights[i] * port_price[i],2) for i in range(len(port_price))]\n",
    "\n",
    "port_buyin_price = round(sum(total_price),2)\n"
   ]
  },
  {
   "cell_type": "code",
   "execution_count": 24,
   "metadata": {},
   "outputs": [],
   "source": [
    "total_stock_weight = [sum(_0939_share),sum(_1038_share),\n",
    "                      sum(_1299_share),sum(_0003_share),\n",
    "                     sum(_0405_share)]\n",
    "\n",
    "current_stock_price = []\n",
    "stock_name = []\n",
    "\n",
    "\n",
    "for ticker in ticker_list:\n",
    "    URL = \"https://finance.yahoo.com/quote/\"+ticker+\"?p=\"+ticker+\"&.tsrc=fin-srch\"\n",
    "    page = requests.get(URL)\n",
    "\n",
    "    soup = BeautifulSoup(page.content, 'html.parser')\n",
    "    current_stock_price.append(float(soup.find('span', class_ = 'Trsdu(0.3s) Fw(b) Fz(36px) Mb(-4px) D(ib)').text))\n",
    "    stock_name.append(soup.find('h1', class_ = 'D(ib) Fz(18px)').text)\n",
    "    \n",
    "total_stock_price = [round(weights[i] * (current_stock_price[i]*total_stock_weight[i]),2) for i in range(len(current_stock_price))]    \n",
    "    \n",
    "port_current_price = round(sum(total_stock_price),2)\n",
    "\n"
   ]
  },
  {
   "cell_type": "code",
   "execution_count": 25,
   "metadata": {},
   "outputs": [],
   "source": [
    "p_l_lst = [round(total_stock_price[i] - total_price[i],2) for i in range(len(total_stock_price))]\n",
    "\n",
    "highest_earning_stock = stock_name[p_l_lst.index(max(p_l_lst))]\n",
    "lowest_earning_stock = stock_name[p_l_lst.index(min(p_l_lst))]\n",
    "\n",
    "highest_stock_earning = max(p_l_lst)\n",
    "lowest_stock_losing = min(p_l_lst)\n",
    "\n",
    "variance = round(port_current_price - port_buyin_price)\n"
   ]
  },
  {
   "cell_type": "code",
   "execution_count": 26,
   "metadata": {},
   "outputs": [
    {
     "data": {
      "text/plain": [
       "'\\nstock_price = \\nfor i in range(0,len(total_stock_weight)):\\n    print(round(current_stock_price[i] * total_stock_weight[i],2))\\n'"
      ]
     },
     "execution_count": 26,
     "metadata": {},
     "output_type": "execute_result"
    }
   ],
   "source": [
    "'''\n",
    "stock_price = \n",
    "for i in range(0,len(total_stock_weight)):\n",
    "    print(round(current_stock_price[i] * total_stock_weight[i],2))\n",
    "'''"
   ]
  },
  {
   "cell_type": "code",
   "execution_count": 27,
   "metadata": {},
   "outputs": [],
   "source": [
    "position = []\n",
    "\n",
    "if port_current_price > port_buyin_price:\n",
    "    position.append('earning')\n",
    "else:\n",
    "    position.append('losing')"
   ]
  },
  {
   "cell_type": "code",
   "execution_count": 28,
   "metadata": {},
   "outputs": [
    {
     "name": "stdout",
     "output_type": "stream",
     "text": [
      "Good evening, ma'am. Today is 08th of may, Saturday. The current time is 20:50, and the temperature is 12°, Cloudy.\n",
      "\n",
      "\u001b[1mNews from BBC News\u001b[0m\n",
      "1. Scores injured in fresh clashes in Jerusalem\n",
      "   https://www.bbc.co.uk/news/world-middle-east-57044000\n",
      "2. Deadly attack near secondary school in Afghanistan\n",
      "   https://www.bbc.co.uk/news/world-asia-57040713\n",
      "3. A bizarre tale of cannabis boom and bust\n",
      "   https://www.bbc.co.uk/news/world-us-canada-56835897\n",
      "4. Out in the cold: NYC cancels school snow days\n",
      "   https://www.bbc.co.uk/news/world-us-canada-57037250\n",
      "5. Trump officials obtained reporters' phone data\n",
      "   https://www.bbc.co.uk/news/world-us-canada-57040255\n",
      "\n",
      "\u001b[1mNews for Business Insider\u001b[0m\n",
      "1. A woman and young child were shot in Times Square\n",
      "   https://www.insider.com/times-square-shooting-victims-injuries-2021-5\n",
      "2. A ransomware attack has forced a shut down of the largest US fuel pipeline, which carries nearly half the fuel consumed by the East Coast\n",
      "   https://www.businessinsider.com/colonial-largest-us-fuel-pipeline-operator-shuts-down-operations-after-cyberattack-2021-5\n",
      "3. A Tesla Cybertruck was spotted on New York's streets ahead of Elon Musk's 'SNL' hosting gig\n",
      "   https://www.businessinsider.com/tesla-cybertruck-new-york-ahead-elon-musk-snl-gig-2021-5\n",
      "4. Apple and Epic Games are revealing a ton of industry secrets in court filings — from untold billions in 'Fortnite' profits to private email exchanges, these are the 5 juiciest bits\n",
      "   https://www.businessinsider.com/apple-fortnite-epic-games-lawsuit-secrets-revealed-2021-5\n",
      "5. China says the rocket heading toward Earth uncontrolled will mostly burn up when it reenters the atmosphere\n",
      "   https://www.businessinsider.com/chinese-rocket-china-says-will-mostly-burn-harm-unlikely-2021-5\n",
      "\n",
      "The current price of the portfolio is 78458.91 dollars, and you are earning 7427 dollars.\n",
      "The highest return stock is The Hong Kong and China Gas Company Limited (0003.HK) with 7517.64, \n",
      "while the lowest return stock is Yuexiu Real Estate Investment Trust (0405.HK) with -141.12.\n"
     ]
    }
   ],
   "source": [
    "engine.say(f'''Good {greetings[0]}, ma'am. Today is {current_date[0]} of {current_month}, {current_day}. The current time is {current_hour}:{current_min}, and the weather is {degree[0]}, {condition[0]}.''')\n",
    "#engine.say(f'''Good {greetings[0]}, ma'am. It's {current_hour} {current_min} on {current_date[0]} of {current_month}, {current_day}. The weather is {degree[0]}, {condition[0]}.''')\n",
    "\n",
    "engine.say('News from BBC News')\n",
    "time.sleep(.3)\n",
    "for i in range(0,5):\n",
    "    engine.say(f\"\"\"{bbc_news_headline[i]}\"\"\")\n",
    "    time.sleep(.3)\n",
    "\n",
    "engine.say('News from Business Insider')\n",
    "time.sleep(.3)    \n",
    "for i in range(0,5):\n",
    "    engine.say(f\"\"\"{busIn_headline[i]}\"\"\")\n",
    "    time.sleep(.3)\n",
    "\n",
    "time.sleep(.3)     \n",
    "engine.say(f'''The current price of the portfolio is {port_current_price} dollars, and you are {position} {variance} dollars.\n",
    "The highest return stock is {highest_earning_stock} with {highest_stock_earning}, while the lowest return stock is {lowest_earning_stock} with {lowest_stock_losing}.''')\n",
    "time.sleep(.3)    \n",
    "\n",
    "\n",
    "    \n",
    "print(f'''Good {greetings[0]}, ma'am. Today is {current_date[0]} of {current_month}, {current_day}. The current time is {current_hour}:{current_min}, and the temperature is {degree[0]}, {condition[0]}.\\n''')\n",
    "    \n",
    "print('\\033[1mNews from BBC News\\033[0m')\n",
    "count = 0\n",
    "for headline in bbc_news_headline[0:5]:\n",
    "    print(f'''{count+1}. {headline}\n",
    "   {bbc_link[count]}''')\n",
    "    count += 1\n",
    "\n",
    "count = 0  \n",
    "print('\\n\\033[1mNews for Business Insider\\033[0m')\n",
    "for headline in busIn_news_headline[0:5]:\n",
    "    print(f'''{count+1}. {headline}\n",
    "   {busIn_link[count]}''')\n",
    "    count += 1\n",
    "    \n",
    "print(f'''\\nThe current price of the portfolio is {port_current_price} dollars, and you are {position[0]} {variance} dollars.\n",
    "The highest return stock is {highest_earning_stock} with {highest_stock_earning}, \\nwhile the lowest return stock is {lowest_earning_stock} with {lowest_stock_losing}.''')    \n",
    "    \n",
    "engine.runAndWait()"
   ]
  }
 ],
 "metadata": {
  "kernelspec": {
   "display_name": "Python 3",
   "language": "python",
   "name": "python3"
  },
  "language_info": {
   "codemirror_mode": {
    "name": "ipython",
    "version": 3
   },
   "file_extension": ".py",
   "mimetype": "text/x-python",
   "name": "python",
   "nbconvert_exporter": "python",
   "pygments_lexer": "ipython3",
   "version": "3.8.3"
  },
  "toc": {
   "base_numbering": 1,
   "nav_menu": {},
   "number_sections": true,
   "sideBar": true,
   "skip_h1_title": false,
   "title_cell": "Table of Contents",
   "title_sidebar": "Contents",
   "toc_cell": false,
   "toc_position": {},
   "toc_section_display": true,
   "toc_window_display": false
  },
  "varInspector": {
   "cols": {
    "lenName": 16,
    "lenType": 16,
    "lenVar": 40
   },
   "kernels_config": {
    "python": {
     "delete_cmd_postfix": "",
     "delete_cmd_prefix": "del ",
     "library": "var_list.py",
     "varRefreshCmd": "print(var_dic_list())"
    },
    "r": {
     "delete_cmd_postfix": ") ",
     "delete_cmd_prefix": "rm(",
     "library": "var_list.r",
     "varRefreshCmd": "cat(var_dic_list()) "
    }
   },
   "types_to_exclude": [
    "module",
    "function",
    "builtin_function_or_method",
    "instance",
    "_Feature"
   ],
   "window_display": false
  }
 },
 "nbformat": 4,
 "nbformat_minor": 4
}
